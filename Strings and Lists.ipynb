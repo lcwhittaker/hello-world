{
 "cells": [
  {
   "cell_type": "code",
   "execution_count": 1,
   "metadata": {},
   "outputs": [
    {
     "data": {
      "text/plain": [
       "'This is a test of a string'"
      ]
     },
     "execution_count": 1,
     "metadata": {},
     "output_type": "execute_result"
    }
   ],
   "source": [
    "'This is a test of a string'"
   ]
  },
  {
   "cell_type": "code",
   "execution_count": 2,
   "metadata": {},
   "outputs": [
    {
     "ename": "SyntaxError",
     "evalue": "invalid syntax (<ipython-input-2-e8ac09023bb3>, line 1)",
     "output_type": "error",
     "traceback": [
      "\u001b[0;36m  File \u001b[0;32m\"<ipython-input-2-e8ac09023bb3>\"\u001b[0;36m, line \u001b[0;32m1\u001b[0m\n\u001b[0;31m    'But you can't say this\u001b[0m\n\u001b[0m                 ^\u001b[0m\n\u001b[0;31mSyntaxError\u001b[0m\u001b[0;31m:\u001b[0m invalid syntax\n"
     ]
    }
   ],
   "source": [
    "'But you can't say this"
   ]
  },
  {
   "cell_type": "code",
   "execution_count": 3,
   "metadata": {},
   "outputs": [
    {
     "data": {
      "text/plain": [
       "\"But you can't say this\""
      ]
     },
     "execution_count": 3,
     "metadata": {},
     "output_type": "execute_result"
    }
   ],
   "source": [
    "\"But you can't say this\""
   ]
  },
  {
   "cell_type": "code",
   "execution_count": 4,
   "metadata": {},
   "outputs": [
    {
     "data": {
      "text/plain": [
       "\"I said 'Strings are amazing!'\""
      ]
     },
     "execution_count": 4,
     "metadata": {},
     "output_type": "execute_result"
    }
   ],
   "source": [
    "\"I said 'Strings are amazing!'\""
   ]
  },
  {
   "cell_type": "code",
   "execution_count": 5,
   "metadata": {},
   "outputs": [
    {
     "data": {
      "text/plain": [
       "'You can still put \"double quotes\" into the string'"
      ]
     },
     "execution_count": 5,
     "metadata": {},
     "output_type": "execute_result"
    }
   ],
   "source": [
    "\"You can still put \\\"double quotes\\\" into the string\""
   ]
  },
  {
   "cell_type": "code",
   "execution_count": 6,
   "metadata": {},
   "outputs": [
    {
     "data": {
      "text/plain": [
       "'They said \\'You can\\'t do that\\' but I said \"Yes I can\"'"
      ]
     },
     "execution_count": 6,
     "metadata": {},
     "output_type": "execute_result"
    }
   ],
   "source": [
    "\"They said \\'You can't do that\\' but I said \\\"Yes I can\\\"\""
   ]
  },
  {
   "cell_type": "code",
   "execution_count": 7,
   "metadata": {},
   "outputs": [
    {
     "name": "stdout",
     "output_type": "stream",
     "text": [
      "They said 'You can't do that' but I said \"Yes I can\"\n"
     ]
    }
   ],
   "source": [
    "print(\"They said \\'You can't do that\\' but I said \\\"Yes I can\\\"\")\n"
   ]
  },
  {
   "cell_type": "code",
   "execution_count": 9,
   "metadata": {},
   "outputs": [],
   "source": [
    "my_str = '''\n",
    "This is\n",
    "a string\n",
    "with multiple lines\n",
    "'''"
   ]
  },
  {
   "cell_type": "code",
   "execution_count": 10,
   "metadata": {},
   "outputs": [
    {
     "name": "stdout",
     "output_type": "stream",
     "text": [
      "\n",
      "This is\n",
      "a string\n",
      "with multiple lines\n",
      "\n"
     ]
    }
   ],
   "source": [
    "print(my_str)"
   ]
  },
  {
   "cell_type": "code",
   "execution_count": 11,
   "metadata": {},
   "outputs": [
    {
     "data": {
      "text/plain": [
       "'This is astring'"
      ]
     },
     "execution_count": 11,
     "metadata": {},
     "output_type": "execute_result"
    }
   ],
   "source": [
    "'This is a' + 'string'"
   ]
  },
  {
   "cell_type": "code",
   "execution_count": 12,
   "metadata": {},
   "outputs": [
    {
     "data": {
      "text/plain": [
       "'This is a string'"
      ]
     },
     "execution_count": 12,
     "metadata": {},
     "output_type": "execute_result"
    }
   ],
   "source": [
    "'This is a' + ' ' + 'string'"
   ]
  },
  {
   "cell_type": "code",
   "execution_count": 14,
   "metadata": {},
   "outputs": [
    {
     "data": {
      "text/plain": [
       "'Happy!Happy!Happy!Happy!Happy!Happy!Happy!Happy!Happy!Happy!'"
      ]
     },
     "execution_count": 14,
     "metadata": {},
     "output_type": "execute_result"
    }
   ],
   "source": [
    "\"Happy!\" * 10"
   ]
  },
  {
   "cell_type": "code",
   "execution_count": 15,
   "metadata": {},
   "outputs": [
    {
     "data": {
      "text/plain": [
       "'Repeating string Repeating string Repeating string'"
      ]
     },
     "execution_count": 15,
     "metadata": {},
     "output_type": "execute_result"
    }
   ],
   "source": [
    "'Repeating string Repeating string Repeating string '.strip()"
   ]
  },
  {
   "cell_type": "code",
   "execution_count": 16,
   "metadata": {},
   "outputs": [
    {
     "data": {
      "text/plain": [
       "'Repeating string Repeating string Repeating string'"
      ]
     },
     "execution_count": 16,
     "metadata": {},
     "output_type": "execute_result"
    }
   ],
   "source": [
    "' Repeating string Repeating string Repeating string '.strip()"
   ]
  },
  {
   "cell_type": "code",
   "execution_count": 17,
   "metadata": {},
   "outputs": [
    {
     "data": {
      "text/plain": [
       "'     toooo muc space   '"
      ]
     },
     "execution_count": 17,
     "metadata": {},
     "output_type": "execute_result"
    }
   ],
   "source": [
    "'     toooo muc space   '"
   ]
  },
  {
   "cell_type": "code",
   "execution_count": 19,
   "metadata": {},
   "outputs": [
    {
     "data": {
      "text/plain": [
       "'toooo much space'"
      ]
     },
     "execution_count": 19,
     "metadata": {},
     "output_type": "execute_result"
    }
   ],
   "source": [
    "'     toooo much space   '.strip()"
   ]
  },
  {
   "cell_type": "markdown",
   "metadata": {},
   "source": [
    "my_str = '     toooo muc space   '"
   ]
  },
  {
   "cell_type": "code",
   "execution_count": 20,
   "metadata": {},
   "outputs": [],
   "source": [
    "my_str = '     toooo muc space   '"
   ]
  },
  {
   "cell_type": "code",
   "execution_count": 21,
   "metadata": {},
   "outputs": [
    {
     "data": {
      "text/plain": [
       "'toooo muc space'"
      ]
     },
     "execution_count": 21,
     "metadata": {},
     "output_type": "execute_result"
    }
   ],
   "source": [
    "my_str.strip()"
   ]
  },
  {
   "cell_type": "code",
   "execution_count": 22,
   "metadata": {},
   "outputs": [],
   "source": [
    "my_str_variable = 'this IS my STRING to PLAY around WITH.'\n"
   ]
  },
  {
   "cell_type": "code",
   "execution_count": null,
   "metadata": {},
   "outputs": [],
   "source": []
  },
  {
   "cell_type": "code",
   "execution_count": 24,
   "metadata": {},
   "outputs": [
    {
     "data": {
      "text/plain": [
       "'This is my string to play around with.'"
      ]
     },
     "execution_count": 24,
     "metadata": {},
     "output_type": "execute_result"
    }
   ],
   "source": [
    "my_str_variable.capitalize()"
   ]
  },
  {
   "cell_type": "code",
   "execution_count": 25,
   "metadata": {},
   "outputs": [
    {
     "data": {
      "text/plain": [
       "'THIS IS MY STRING TO PLAY AROUND WITH.'"
      ]
     },
     "execution_count": 25,
     "metadata": {},
     "output_type": "execute_result"
    }
   ],
   "source": [
    "my_str_variable.upper()"
   ]
  },
  {
   "cell_type": "code",
   "execution_count": 26,
   "metadata": {},
   "outputs": [
    {
     "data": {
      "text/plain": [
       "'this IS my flING to PLAY around WITH.'"
      ]
     },
     "execution_count": 26,
     "metadata": {},
     "output_type": "execute_result"
    }
   ],
   "source": [
    "my_str_variable.replace('STR', 'fl')"
   ]
  },
  {
   "cell_type": "code",
   "execution_count": 27,
   "metadata": {},
   "outputs": [
    {
     "data": {
      "text/plain": [
       "['this', 'IS', 'my', 'STRING', 'to', 'PLAY', 'around', 'WITH.']"
      ]
     },
     "execution_count": 27,
     "metadata": {},
     "output_type": "execute_result"
    }
   ],
   "source": [
    "my_str_variable.split()\n"
   ]
  },
  {
   "cell_type": "code",
   "execution_count": 28,
   "metadata": {},
   "outputs": [
    {
     "name": "stdout",
     "output_type": "stream",
     "text": [
      "this IS my STRING to PLAY around WITH.\n"
     ]
    }
   ],
   "source": [
    "print(my_str_variable)"
   ]
  },
  {
   "cell_type": "code",
   "execution_count": 29,
   "metadata": {},
   "outputs": [
    {
     "name": "stdout",
     "output_type": "stream",
     "text": [
      "This won't work.\n"
     ]
    }
   ],
   "source": [
    "# Challenge 1\n",
    "# A poorly-specified string\n",
    "s = 'This won\\'t work.'\n",
    "\n",
    "# Print the string after you fix it\n",
    "print(s)"
   ]
  },
  {
   "cell_type": "code",
   "execution_count": 32,
   "metadata": {},
   "outputs": [
    {
     "name": "stdout",
     "output_type": "stream",
     "text": [
      "Please enter a number: 4\n",
      "---->\n"
     ]
    }
   ],
   "source": [
    "# Challenge 2\n",
    "# Example input() statement\n",
    "N = int(input('Please enter a number: '))\n",
    "\n",
    "# Replace the next line with your code\n",
    "arrow = '-' * N + '>'\n",
    "\n",
    "# Print the arrow when you are done\n",
    "print(arrow)"
   ]
  },
  {
   "cell_type": "code",
   "execution_count": 33,
   "metadata": {},
   "outputs": [
    {
     "name": "stdout",
     "output_type": "stream",
     "text": [
      "Please enter a string: Stop shouting\n",
      "STOP SHOUTING\n"
     ]
    }
   ],
   "source": [
    "# Challenge 3\n",
    "# Example input() statement\n",
    "s = input('Please enter a string: ')\n",
    "\n",
    "# Print the string when you are done\n",
    "print(s.upper())"
   ]
  },
  {
   "cell_type": "code",
   "execution_count": 35,
   "metadata": {},
   "outputs": [
    {
     "name": "stdout",
     "output_type": "stream",
     "text": [
      "Please enter a string: HELLO WORLD\n",
      "hello world\n"
     ]
    }
   ],
   "source": [
    "# Challenge 4\n",
    "# Example input() statement\n",
    "s = input('Please enter a string: ')\n",
    "\n",
    "if s.isupper():\n",
    "    s = s.lower()\n",
    "else:\n",
    "    s = s.upper() + '!!!'\n",
    "# Print the string when you are done\n",
    "print(s)"
   ]
  },
  {
   "cell_type": "code",
   "execution_count": 6,
   "metadata": {},
   "outputs": [
    {
     "name": "stdout",
     "output_type": "stream",
     "text": [
      "Please enter a string: !!!Hello!!!\n",
      ".Hello.\n"
     ]
    }
   ],
   "source": [
    "# Challenge 5 NOT DONE\n",
    "# Example input() statement\n",
    "s = input('Please enter a string: ')\n",
    "\n",
    "if s.endswith('!!!'):\n",
    "    s = s.replace('!!!', '.')\n",
    "else:\n",
    "    pass\n",
    "# Print the string when you are done\n",
    "print(s)"
   ]
  },
  {
   "cell_type": "markdown",
   "metadata": {},
   "source": [
    "# Begin string indexing"
   ]
  },
  {
   "cell_type": "code",
   "execution_count": 37,
   "metadata": {},
   "outputs": [],
   "source": [
    "my_str_variable = 'Test String'"
   ]
  },
  {
   "cell_type": "code",
   "execution_count": 38,
   "metadata": {},
   "outputs": [
    {
     "data": {
      "text/plain": [
       "'g'"
      ]
     },
     "execution_count": 38,
     "metadata": {},
     "output_type": "execute_result"
    }
   ],
   "source": [
    "my_str_variable[-1]\n"
   ]
  },
  {
   "cell_type": "code",
   "execution_count": 39,
   "metadata": {},
   "outputs": [
    {
     "data": {
      "text/plain": [
       "'es'"
      ]
     },
     "execution_count": 39,
     "metadata": {},
     "output_type": "execute_result"
    }
   ],
   "source": [
    "my_str_variable[1:3]"
   ]
  },
  {
   "cell_type": "code",
   "execution_count": 40,
   "metadata": {},
   "outputs": [
    {
     "data": {
      "text/plain": [
       "'s'"
      ]
     },
     "execution_count": 40,
     "metadata": {},
     "output_type": "execute_result"
    }
   ],
   "source": [
    "my_str_variable[2]\n"
   ]
  },
  {
   "cell_type": "code",
   "execution_count": 41,
   "metadata": {},
   "outputs": [
    {
     "data": {
      "text/plain": [
       "'Test S'"
      ]
     },
     "execution_count": 41,
     "metadata": {},
     "output_type": "execute_result"
    }
   ],
   "source": [
    "my_str_variable[:6]"
   ]
  },
  {
   "cell_type": "code",
   "execution_count": 42,
   "metadata": {},
   "outputs": [
    {
     "data": {
      "text/plain": [
       "'Test String'"
      ]
     },
     "execution_count": 42,
     "metadata": {},
     "output_type": "execute_result"
    }
   ],
   "source": [
    "my_str_variable[:]"
   ]
  },
  {
   "cell_type": "code",
   "execution_count": 43,
   "metadata": {},
   "outputs": [
    {
     "data": {
      "text/plain": [
       "'etS'"
      ]
     },
     "execution_count": 43,
     "metadata": {},
     "output_type": "execute_result"
    }
   ],
   "source": [
    "my_str_variable[1:7:2]\n",
    "# first through sixth, skip every 2"
   ]
  },
  {
   "cell_type": "code",
   "execution_count": 44,
   "metadata": {},
   "outputs": [
    {
     "data": {
      "text/plain": [
       "'Ts tig'"
      ]
     },
     "execution_count": 44,
     "metadata": {},
     "output_type": "execute_result"
    }
   ],
   "source": [
    "my_str_variable[::2]"
   ]
  },
  {
   "cell_type": "code",
   "execution_count": null,
   "metadata": {},
   "outputs": [],
   "source": []
  },
  {
   "cell_type": "code",
   "execution_count": null,
   "metadata": {},
   "outputs": [],
   "source": []
  },
  {
   "cell_type": "markdown",
   "metadata": {},
   "source": [
    "# while loop iteration"
   ]
  },
  {
   "cell_type": "code",
   "execution_count": 45,
   "metadata": {},
   "outputs": [
    {
     "name": "stdout",
     "output_type": "stream",
     "text": [
      "M\n",
      "i\n",
      "k\n",
      "e\n"
     ]
    }
   ],
   "source": [
    "another_str = 'Mike'\n",
    "i = 0\n",
    "while i < len(another_str):\n",
    "    print(another_str[i])\n",
    "    i += 1"
   ]
  },
  {
   "cell_type": "code",
   "execution_count": 46,
   "metadata": {},
   "outputs": [
    {
     "name": "stdout",
     "output_type": "stream",
     "text": [
      "M\n",
      "i\n",
      "k\n",
      "e\n"
     ]
    }
   ],
   "source": [
    "for i in range(len(another_str)):\n",
    "    print(another_str[i])"
   ]
  },
  {
   "cell_type": "code",
   "execution_count": 47,
   "metadata": {},
   "outputs": [
    {
     "name": "stdout",
     "output_type": "stream",
     "text": [
      "M\n",
      "i\n",
      "k\n",
      "e\n"
     ]
    }
   ],
   "source": [
    "for ch in another_str:\n",
    "    print(ch)"
   ]
  },
  {
   "cell_type": "code",
   "execution_count": 10,
   "metadata": {},
   "outputs": [
    {
     "name": "stdout",
     "output_type": "stream",
     "text": [
      "Please enter a string: hello!\n",
      "o\n"
     ]
    }
   ],
   "source": [
    "# Challenge 1 Strings and Lists\n",
    "# Example input() statement\n",
    "s = input('Please enter a string: ')\n",
    "\n",
    "# Use this error message if the string is too short\n",
    "if (len(s)) > 5:\n",
    "    print(s[5])\n",
    "else:\n",
    "    print('String too short.')"
   ]
  },
  {
   "cell_type": "code",
   "execution_count": 12,
   "metadata": {},
   "outputs": [
    {
     "name": "stdout",
     "output_type": "stream",
     "text": [
      "Please enter a string: abcdef\n",
      "bcd\n"
     ]
    }
   ],
   "source": [
    "# Challenge 2\n",
    "# Five chars min, print 2, 3, 4\n",
    "# Example input() statement\n",
    "s = input('Please enter a string: ')\n",
    "\n",
    "# Use this error message if the string is too short\n",
    "if len(s) > 5:\n",
    "    print(s[2:5])\n",
    "else:\n",
    "    print('String too short.')"
   ]
  },
  {
   "cell_type": "code",
   "execution_count": 15,
   "metadata": {},
   "outputs": [
    {
     "name": "stdout",
     "output_type": "stream",
     "text": [
      "Please enter a string: 123456\n",
      "246\n"
     ]
    }
   ],
   "source": [
    "# Challenge 3\n",
    "# Every other character, minimum 2\n",
    "# Example input() statement\n",
    "s = input('Please enter a string: ')\n",
    "\n",
    "# Use this error message if the string is too short\n",
    "if len(s) > 1:\n",
    "    print(s[1::2])\n",
    "else:\n",
    "    print('String too short.')"
   ]
  },
  {
   "cell_type": "code",
   "execution_count": 21,
   "metadata": {},
   "outputs": [
    {
     "name": "stdout",
     "output_type": "stream",
     "text": [
      "Please enter a string: 0\n",
      "String too short.\n"
     ]
    }
   ],
   "source": [
    "# Challenge 4\n",
    "# Print next to last character for 2-char min string\n",
    "# Example input() statement\n",
    "s = input('Please enter a string: ')\n",
    "\n",
    "# Print the string when you are done\n",
    "if len(s) > 1:\n",
    "    print(s[len(s)-2])\n",
    "else:\n",
    "    print('String too short.')"
   ]
  },
  {
   "cell_type": "code",
   "execution_count": 23,
   "metadata": {},
   "outputs": [
    {
     "name": "stdout",
     "output_type": "stream",
     "text": [
      "Please enter a string: Hello\n",
      "H\n",
      "L\n",
      "O\n"
     ]
    }
   ],
   "source": [
    "# Challenge 5\n",
    "# Print every other character using a for loop, without range()\n",
    "# Example input() statement\n",
    "s = input('Please enter a string: ')\n",
    "\n",
    "i = 0\n",
    "while i < len(s):\n",
    "#    print(s[i].upper())\n",
    "    i += 2\n",
    "\n",
    "i = 0\n",
    "for char in s:\n",
    "    if i % 2 == 0:\n",
    "        print(s[i].upper())\n",
    "    i += 1\n",
    "    \n",
    "    "
   ]
  },
  {
   "cell_type": "markdown",
   "metadata": {},
   "source": [
    "# Strings and formatting"
   ]
  },
  {
   "cell_type": "code",
   "execution_count": 25,
   "metadata": {},
   "outputs": [
    {
     "name": "stdout",
     "output_type": "stream",
     "text": [
      "Please enter an integer: 5\n",
      "Two times 5 is 10.\n"
     ]
    }
   ],
   "source": [
    "# String formatting, Challenge 2\n",
    "# Example input() statement\n",
    "n = int(input('Please enter an integer: '))\n",
    "\n",
    "# Place your print statement here\n",
    "print('Two times', n , 'is {}.'.format(2*n))"
   ]
  },
  {
   "cell_type": "code",
   "execution_count": 26,
   "metadata": {},
   "outputs": [
    {
     "name": "stdout",
     "output_type": "stream",
     "text": [
      "Please enter an integer: 3\n",
      "3.1415926536\n"
     ]
    }
   ],
   "source": [
    "# String formatting, Challenge 3\n",
    "from math import pi\n",
    "\n",
    "# Example input() statement\n",
    "n = int(input('Please enter an integer: '))\n",
    "\n",
    "format_string = '{:.10f}'\n",
    "\n",
    "# Replace this with your own print statement\n",
    "print(format_string.format(pi))"
   ]
  },
  {
   "cell_type": "code",
   "execution_count": 38,
   "metadata": {},
   "outputs": [
    {
     "name": "stdout",
     "output_type": "stream",
     "text": [
      "Please enter an integer: 2\n"
     ]
    },
    {
     "ename": "ValueError",
     "evalue": "cannot switch from automatic field numbering to manual field specification",
     "output_type": "error",
     "traceback": [
      "\u001b[0;31m---------------------------------------------------------------------------\u001b[0m",
      "\u001b[0;31mValueError\u001b[0m                                Traceback (most recent call last)",
      "\u001b[0;32m<ipython-input-38-f274cf008480>\u001b[0m in \u001b[0;36m<module>\u001b[0;34m()\u001b[0m\n\u001b[1;32m      5\u001b[0m \u001b[0mn\u001b[0m \u001b[0;34m=\u001b[0m \u001b[0mint\u001b[0m\u001b[0;34m(\u001b[0m\u001b[0minput\u001b[0m\u001b[0;34m(\u001b[0m\u001b[0;34m'Please enter an integer: '\u001b[0m\u001b[0;34m)\u001b[0m\u001b[0;34m)\u001b[0m\u001b[0;34m\u001b[0m\u001b[0m\n\u001b[1;32m      6\u001b[0m \u001b[0;34m\u001b[0m\u001b[0m\n\u001b[0;32m----> 7\u001b[0;31m \u001b[0mformat_string\u001b[0m \u001b[0;34m=\u001b[0m \u001b[0;34m\"\"\u001b[0m\u001b[0;34m'{:.{1}f}'\u001b[0m\u001b[0;34m\"\"\u001b[0m\u001b[0;34m.\u001b[0m\u001b[0mformat\u001b[0m\u001b[0;34m(\u001b[0m\u001b[0mpi\u001b[0m\u001b[0;34m,\u001b[0m \u001b[0mn\u001b[0m\u001b[0;34m)\u001b[0m\u001b[0;34m\u001b[0m\u001b[0m\n\u001b[0m\u001b[1;32m      8\u001b[0m \u001b[0;34m\u001b[0m\u001b[0m\n\u001b[1;32m      9\u001b[0m \u001b[0;31m# Replace this with your own print statement\u001b[0m\u001b[0;34m\u001b[0m\u001b[0;34m\u001b[0m\u001b[0m\n",
      "\u001b[0;31mValueError\u001b[0m: cannot switch from automatic field numbering to manual field specification"
     ]
    }
   ],
   "source": [
    "# String formatting, challenge 3\n",
    "from math import pi\n",
    "\n",
    "# Example input() statement\n",
    "n = int(input('Please enter an integer: '))\n",
    "\n",
    "format_string = \"\"'{:.{1}f}'\"\".format(pi, n)\n",
    "\n",
    "# Replace this with your own print statement\n",
    "print(format_string.format())"
   ]
  },
  {
   "cell_type": "code",
   "execution_count": 46,
   "metadata": {},
   "outputs": [
    {
     "name": "stdout",
     "output_type": "stream",
     "text": [
      "Please enter an integer: 10\n",
      "3.1415926536\n"
     ]
    }
   ],
   "source": [
    "# String Formatting, Challenge 3\n",
    "from math import pi\n",
    "\n",
    "# Example input() statement\n",
    "n = int(input('Please enter an integer: '))\n",
    "#n = 2\n",
    "#format_string = '{:.10f}'\n",
    "format_string = '{:.{}f}'\n",
    "#print(format_string)\n",
    "print(format_string.format(pi, n))\n",
    "# Replace this with your own print statement\n",
    "#print(format_string.format(pi))"
   ]
  },
  {
   "cell_type": "markdown",
   "metadata": {},
   "source": [
    "# Lists"
   ]
  },
  {
   "cell_type": "code",
   "execution_count": 54,
   "metadata": {},
   "outputs": [
    {
     "name": "stdout",
     "output_type": "stream",
     "text": [
      "Please enter a series of comma-separated strings: one, two, three, two\n",
      "l: ['one', 'two', 'three', 'two']\n",
      "Please enter a string to count: two\n",
      "2\n"
     ]
    }
   ],
   "source": [
    "# Lists, Challenge 1\n",
    "# Input series of comma-separated strings\n",
    "s1 = input('Please enter a series of comma-separated strings: ')\n",
    "# Split on comma+space to create the list\n",
    "l = s1.split(', ')\n",
    "#print ('l:', l)\n",
    "# Input the string to count in the list\n",
    "s2 = input('Please enter a string to count: ')\n",
    "\n",
    "# Print out the number of times s2 occurs in s1\n",
    "count = 0\n",
    "for str in l:\n",
    "#    print('str:', str, 's2:', s2)\n",
    "    if str == s2:\n",
    "        count += 1\n",
    "print(count)"
   ]
  },
  {
   "cell_type": "code",
   "execution_count": 55,
   "metadata": {},
   "outputs": [
    {
     "name": "stdout",
     "output_type": "stream",
     "text": [
      "Please enter a series of comma-separated strings: one, two, three\n",
      "['one', 'two', 'three', 'one']\n"
     ]
    }
   ],
   "source": [
    "# Lists, Challenge 2\n",
    "# Input series of comma-separated strings\n",
    "s = input('Please enter a series of comma-separated strings: ')\n",
    "# Split on comma+space to create the list\n",
    "l = s.split(', ')\n",
    "\n",
    "# Append the first element to list l and then print the list\n",
    "l.append(l[0])\n",
    "print(l)"
   ]
  },
  {
   "cell_type": "code",
   "execution_count": 77,
   "metadata": {},
   "outputs": [
    {
     "name": "stdout",
     "output_type": "stream",
     "text": [
      "Please enter a series of comma-separated strings: a, b, c\n",
      "l: ['a', 'b', 'c']\n",
      "l2: ['c', 'b', 'a']\n",
      "['a', 'b', 'c', 'c', 'b', 'a']\n"
     ]
    }
   ],
   "source": [
    "# Lists, Challenge 3\n",
    "# Input series of comma-separated strings\n",
    "s = input('Please enter a series of comma-separated strings: ')\n",
    "# Split on comma+space to create the list\n",
    "l = s.split(', ')\n",
    "\n",
    "# Convert list l into a palindrome and then print the list\n",
    "#l = list(l)\n",
    "l2 = list(l)\n",
    "l2.reverse()\n",
    "print('l:', l)\n",
    "print('l2:', l2)\n",
    "#for ele in l2:\n",
    "#    l.append(ele)\n",
    "l.extend(l2)\n",
    "print(l)"
   ]
  },
  {
   "cell_type": "code",
   "execution_count": 80,
   "metadata": {},
   "outputs": [
    {
     "name": "stdout",
     "output_type": "stream",
     "text": [
      "Please enter a series of comma-separated strings: a, b, c\n",
      "['a', 'b', 'c', 'b', 'a']\n"
     ]
    }
   ],
   "source": [
    "# Lists, Challenge 4\n",
    "# Input series of comma-separated strings\n",
    "s = input('Please enter a series of comma-separated strings: ')\n",
    "# Split on comma+space to create the list\n",
    "l = s.split(', ')\n",
    "\n",
    "# Convert list l into a palindrome and then print the list\n",
    "#l = list(l)\n",
    "l2 = list(l)\n",
    "l2.reverse()\n",
    "#print('l:', l)\n",
    "#print('l2:', l2)\n",
    "#for ele in l2:\n",
    "#    l.append(ele)\n",
    "l.extend(l2[1:])\n",
    "print(l)"
   ]
  },
  {
   "cell_type": "code",
   "execution_count": 83,
   "metadata": {},
   "outputs": [
    {
     "name": "stdout",
     "output_type": "stream",
     "text": [
      "Please enter a series of comma-separated strings: a, b, c, d, e\n",
      "['b', 'd']\n"
     ]
    }
   ],
   "source": [
    "# Lists, Challenge 5\n",
    "# Print odd-indexed elements of the string\n",
    "# Input series of comma-separated strings\n",
    "s = input('Please enter a series of comma-separated strings: ')\n",
    "# Split on comma+space to create the list\n",
    "l = s.split(', ')\n",
    "\n",
    "# Print the odd-indexed elements of list l\n",
    "print(l[1::2])"
   ]
  },
  {
   "cell_type": "code",
   "execution_count": 85,
   "metadata": {},
   "outputs": [
    {
     "name": "stdout",
     "output_type": "stream",
     "text": [
      "Please enter a series of comma-separated strings: a, e, i, o, u, a, s, d, f\n",
      "1 a\n",
      "2 a\n",
      "3 d\n",
      "4 e\n",
      "5 f\n",
      "6 i\n",
      "7 o\n",
      "8 s\n",
      "9 u\n"
     ]
    }
   ],
   "source": [
    "# Lists, Challenge 6\n",
    "# Sort the list, print with the element number\n",
    "# Input series of comma-separated strings\n",
    "s = input('Please enter a series of comma-separated strings: ')\n",
    "# Split on comma+space to create the list\n",
    "l = s.split(', ')\n",
    "\n",
    "# Sort l, then print the elements of l in numbered fashion, starting at 1\n",
    "l.sort()\n",
    "for idx, elem in enumerate(l, start=1):\n",
    "    print(idx, elem)"
   ]
  },
  {
   "cell_type": "markdown",
   "metadata": {},
   "source": [
    "## Strings and Lists Checkpoint Exercises"
   ]
  },
  {
   "cell_type": "code",
   "execution_count": 3,
   "metadata": {},
   "outputs": [
    {
     "name": "stdout",
     "output_type": "stream",
     "text": [
      "Please enter a number: 5\n",
      "120\n"
     ]
    }
   ],
   "source": [
    "# Strings and Lists Checkpoint Challenge 1: Factorial\n",
    "# Example input() statement\n",
    "result = 1\n",
    "i = 1\n",
    "\n",
    "number = int(input('Please enter a number: '))\n",
    "\n",
    "while i <= number:\n",
    "    result = result * i\n",
    "    i += 1\n",
    "# Print your result like this:\n",
    "print(result)"
   ]
  },
  {
   "cell_type": "code",
   "execution_count": 23,
   "metadata": {},
   "outputs": [
    {
     "name": "stdout",
     "output_type": "stream",
     "text": [
      "Please enter a number: 4\n",
      "i:  2\n",
      "number % i: 0\n",
      "i:  3\n",
      "number % i: 1\n",
      "The number you inputted is not a prime number.\n"
     ]
    }
   ],
   "source": [
    "# Strings and Lists Checkpoint Challenge 2: Prime\n",
    "\n",
    "# Example input() statement\n",
    "number = int(input('Please enter a number: '))\n",
    "\n",
    "# Here are the print statements that you should use.\n",
    "# print('The number you inputted is a prime number.')\n",
    "# print('The number you inputted is not a prime number.')\n",
    "\n",
    "\n",
    "'''\n",
    "Return True if the input is prime, False otherwise\n",
    "Parameters\n",
    "----------\n",
    "n: {int} input integer\n",
    "\n",
    "Returns\n",
    "-------\n",
    "Print the correct prime/not prime statement, return None\n",
    "'''\n",
    "is_prime = True\n",
    "for i in range(2, number):\n",
    "#     print('i: ', i)\n",
    "#     print('number % i:', number % i)\n",
    "    if number % i == 0:\n",
    "        is_prime = False\n",
    "    i += 1\n",
    "\n",
    "if is_prime:\n",
    "    print('The number you inputted is a prime number.')\n",
    "else:\n",
    "    print('The number you inputted is not a prime number.')\n"
   ]
  },
  {
   "cell_type": "code",
   "execution_count": 31,
   "metadata": {},
   "outputs": [
    {
     "name": "stdout",
     "output_type": "stream",
     "text": [
      "Please enter a string: Hello, wlrd\n",
      "Please enter a letter to count: L\n",
      "3\n"
     ]
    }
   ],
   "source": [
    "# Strings and Lists Checkpoint Challenge 3: Count letter occurrences\n",
    "\n",
    "\n",
    "# First get the string\n",
    "s = input('Please enter a string: ')\n",
    "# Then get the letter to count\n",
    "l = input('Please enter a letter to count: ')\n",
    "\n",
    "s = s.lower()\n",
    "l = l.lower()\n",
    "\n",
    "count = 0\n",
    "i = 0\n",
    "while i < len(s):\n",
    "    if (s[i] == l):\n",
    "        count += 1\n",
    "    i += 1\n",
    "    \n",
    "#print(s, l)\n",
    "# Print the number of times letter is in the inputted string\n",
    "print(count)"
   ]
  },
  {
   "cell_type": "code",
   "execution_count": 35,
   "metadata": {
    "scrolled": true
   },
   "outputs": [
    {
     "name": "stdout",
     "output_type": "stream",
     "text": [
      "Please enter a string: Hell\n",
      "hell\n"
     ]
    }
   ],
   "source": [
    "# Strings and Lists Checkpoint Challenge 4: Check for exclamation\n",
    "# Get the string\n",
    "s = input('Please enter a string: ')\n",
    "\n",
    "# Convert the string to upper or lowercase (as appropriate), and print it\n",
    "\n",
    "if (s[-1] == '!'):\n",
    "      print(s.upper())\n",
    "else:\n",
    "    print(s.lower())\n",
    "    \n",
    "# print()\n"
   ]
  },
  {
   "cell_type": "code",
   "execution_count": 41,
   "metadata": {},
   "outputs": [
    {
     "name": "stdout",
     "output_type": "stream",
     "text": [
      "Please enter a string: Hello\n",
      "Hll"
     ]
    }
   ],
   "source": [
    "# Strings and Lists Checkpoint Challenge 5: Remove vowels\n",
    "\n",
    "# Get the string\n",
    "s = input('Please enter a string: ')\n",
    "\n",
    "for char in s:\n",
    "    if char not in ['a', 'e', 'i', 'o', 'u']:\n",
    "        print(char, end =\"\")\n",
    "# Print your result here\n",
    "#print()\n"
   ]
  },
  {
   "cell_type": "code",
   "execution_count": 44,
   "metadata": {},
   "outputs": [
    {
     "name": "stdout",
     "output_type": "stream",
     "text": [
      "Please enter a string: THE quick\n",
      "tHe qUiCk"
     ]
    }
   ],
   "source": [
    "# Strings and Lists Checkpoint Challenge 6: Alternate caps and lower\n",
    "\n",
    "# Get the string\n",
    "s = input('Please enter a string: ')\n",
    "\n",
    "is_lower = True;\n",
    "i = 0\n",
    "while i < len(s):\n",
    "    if is_lower:\n",
    "        print(s[i].lower(), end='')\n",
    "    else:\n",
    "        print(s[i].upper(), end='')\n",
    "        \n",
    "    is_lower = not is_lower\n",
    "    i += 1\n",
    "\n",
    "    "
   ]
  },
  {
   "cell_type": "code",
   "execution_count": null,
   "metadata": {},
   "outputs": [],
   "source": []
  },
  {
   "cell_type": "code",
   "execution_count": 58,
   "metadata": {},
   "outputs": [
    {
     "name": "stdout",
     "output_type": "stream",
     "text": [
      "Please enter a number: 3\n",
      "[0, 2]\n"
     ]
    }
   ],
   "source": [
    "# Strings and Lists Checkpoint Challenge 7: Even numbers up to input\n",
    "n = int(input('Please enter a number: '))\n",
    "\n",
    "s = list(range(0, n, 2))\n",
    "print(s)\n"
   ]
  },
  {
   "cell_type": "code",
   "execution_count": 66,
   "metadata": {},
   "outputs": [
    {
     "name": "stdout",
     "output_type": "stream",
     "text": [
      "Please enter a number: 10\n",
      "Please enter a number to divide by: 3\n",
      "[0, 3, 6, 9]\n"
     ]
    }
   ],
   "source": [
    "# Strings and Lists Checkpoint Challenge 8: Divisible numbers up to input\n",
    "'''\n",
    "Print a list of numbers between 0 and a user-input nmber that are \n",
    "# evenly divisible by a second user-input number.\n",
    "'''\n",
    "n1 = int(input(\"Please enter a number: \"))\n",
    "n2 = int(input(\"Please enter a number to divide by: \"))\n",
    "\n",
    "# For i from 0 to n1, determine if n2 is divisible by i\n",
    "# Start with  i =1 because can't divide by 0\n",
    "i = 1\n",
    "l = [0]\n",
    "while i < n1:\n",
    "    if i % n2 == 0:\n",
    "        l.append(i)\n",
    "    i += 1\n",
    "    \n",
    "print(l)"
   ]
  },
  {
   "cell_type": "code",
   "execution_count": 72,
   "metadata": {},
   "outputs": [
    {
     "name": "stdout",
     "output_type": "stream",
     "text": [
      "l1:  [0, 3, 6, 9, 10, 2, 5]\n",
      "sorted l1:  [0, 2, 3, 5, 6, 9, 10]\n",
      "[2, 6]\n"
     ]
    }
   ],
   "source": [
    "# Strings and Lists Checkpoint Challenge 9: Common elements of two lists\n",
    "''' \n",
    "Given two lists, find the common elements, sort those and print\n",
    "'''\n",
    "l1 = [0, 3, 6, 9, 10, 2, 5]\n",
    "l2 = [2, 6, 4, 7, 8, 1, 15]\n",
    "\n",
    "# An empty list\n",
    "common = []\n",
    "\n",
    "#print('l1: ', l1)\n",
    "l1.sort()\n",
    "#print('sorted l1: ',l1)\n",
    "for num1 in l1:\n",
    "    if num1 in l2:\n",
    "        common.append(num1)\n",
    "\n",
    "# Print the result\n",
    "print(common)"
   ]
  },
  {
   "cell_type": "code",
   "execution_count": 75,
   "metadata": {},
   "outputs": [
    {
     "name": "stdout",
     "output_type": "stream",
     "text": [
      "Please enter a number: 4\n",
      "Please enter another number20\n",
      "[0, 4, 8, 12, 16]\n"
     ]
    }
   ],
   "source": [
    "# Strings and Lists Checkpoint Challenge 10: Print multiples up to n\n",
    "'''\n",
    "From user input n1 and n2, print multiples of n1 up to but not \n",
    "including n2\n",
    "'''\n",
    "n1 = int(input(\"Please enter a number: \"))\n",
    "n2 = int(input('Please enter another number'))\n",
    "\n",
    "# Print multples of n1 that are less than n2\n",
    "i = 0\n",
    "l = []\n",
    "\n",
    "while i * n1 < n2:\n",
    "    l.append(i * n1)\n",
    "    i += 1\n",
    "\n",
    "    \n",
    "print(l)"
   ]
  },
  {
   "cell_type": "code",
   "execution_count": 76,
   "metadata": {},
   "outputs": [
    {
     "name": "stdout",
     "output_type": "stream",
     "text": [
      "Please enter l1 number: 2\n",
      "Please enter l1 number: 4\n",
      "Please enter l1 number: 6\n",
      "Please enter l1 number: 8\n",
      "Please enter l1 number: 10\n",
      "Please enter l1 number: 12\n",
      "Please enter l1 number: 14\n",
      "l1:  [2, 4, 6, 8, 10, 12, 14]\n",
      "Please enter l2 number: 2\n",
      "Please enter l2 number: 6\n",
      "Please enter l2 number: 10\n",
      "Please enter l2 number: 11\n",
      "Please enter l2 number: 12\n",
      "Please enter l2 number: 5\n",
      "Please enter l2 number: 3\n",
      "l2:  [2, 6, 10, 11, 12, 5, 3]\n",
      "[2, 6, 10, 12]\n"
     ]
    }
   ],
   "source": [
    "# Strings and Lists Checkpoint Challenge 11: Read user lists one entry at a time\n",
    "'''\n",
    "Read, one element at a time, two 7-element lists from input.\n",
    "Then as in Challenge 9, find and print the common elements\n",
    "'''\n",
    "\n",
    "l1 = []\n",
    "l2 = []\n",
    "i = 0\n",
    "list_length = 7\n",
    "\n",
    "while i < list_length:\n",
    "    l1.append(int(input('Please enter l1 number: ')))\n",
    "    i += 1\n",
    "#print('l1: ', l1)\n",
    "\n",
    "i = 0\n",
    "while i < list_length:\n",
    "    l2.append(int(input('Please enter l2 number: ')))\n",
    "    i += 1\n",
    "#print('l2: ', l2)\n",
    "    \n",
    "# An empty list\n",
    "common = []\n",
    "\n",
    "#print('l1: ', l1)\n",
    "l1.sort()\n",
    "#print('sorted l1: ',l1)\n",
    "for num1 in l1:\n",
    "    if num1 in l2:\n",
    "        common.append(num1)\n",
    "\n",
    "# Print the result\n",
    "print(common)"
   ]
  },
  {
   "cell_type": "code",
   "execution_count": null,
   "metadata": {},
   "outputs": [],
   "source": []
  }
 ],
 "metadata": {
  "kernelspec": {
   "display_name": "Python 3",
   "language": "python",
   "name": "python3"
  },
  "language_info": {
   "codemirror_mode": {
    "name": "ipython",
    "version": 3
   },
   "file_extension": ".py",
   "mimetype": "text/x-python",
   "name": "python",
   "nbconvert_exporter": "python",
   "pygments_lexer": "ipython3",
   "version": "3.7.0"
  }
 },
 "nbformat": 4,
 "nbformat_minor": 2
}
